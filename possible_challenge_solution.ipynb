{
 "cells": [
  {
   "cell_type": "code",
   "execution_count": 147,
   "metadata": {
    "_cell_guid": "b1076dfc-b9ad-4769-8c92-a6c4dae69d19",
    "_uuid": "8f2839f25d086af736a60e9eeb907d3b93b6e0e5",
    "tags": []
   },
   "outputs": [],
   "source": [
    "import pandas as pd\n",
    "from sklearn.model_selection import train_test_split\n",
    "from sklearn.pipeline import Pipeline\n",
    "from sklearn.compose import ColumnTransformer\n",
    "from sklearn.preprocessing import OneHotEncoder\n",
    "from sklearn.ensemble import RandomForestClassifier\n",
    "\n",
    "# Hana, I think you forget to drop id column\n",
    "mush = pd.read_csv('data/train.csv').drop(columns=['Id']).drop_duplicates()\n",
    "mush_test= pd.read_csv('data/test.csv')\n",
    "columns_to_keep = mush_test.columns.to_list()\n",
    "mush.drop(mush.columns.difference(columns_to_keep+['poisonous']), axis=1, inplace=True)\n",
    "X = mush.drop(columns=['poisonous'])\n",
    "y = mush['poisonous']\n",
    "\n",
    "X_train, X_test, y_train, y_test = train_test_split(X, y, train_size=.8, random_state=8)\n",
    "X_train.head()\n",
    "cat_col= list(X_train.select_dtypes(include=[\"object\"]))\n",
    "categorical_pipeline = Pipeline(steps=[\n",
    "    ('one-hot', OneHotEncoder(handle_unknown='ignore'))\n",
    "])\n",
    "\n",
    "full_processor = ColumnTransformer(transformers=[\n",
    "    ('category', categorical_pipeline, cat_col)\n",
    "])\n",
    "rf_pipeline = Pipeline(steps=[\n",
    "    ('processor', full_processor), \n",
    "    ('model', RandomForestClassifier(max_depth=5, min_samples_leaf=15))\n",
    "])\n",
    "_ = rf_pipeline.fit(X_train, y_train)"
   ]
  },
  {
   "cell_type": "code",
   "execution_count": 148,
   "metadata": {},
   "outputs": [],
   "source": [
    "\n",
    "def get_miss_predicted_poisonous_mushrooms(model, X_test, y_test):\n",
    "    return (\n",
    "    X_test\n",
    "        .assign(\n",
    "            preds =  rf_pipeline.predict(X_test),\n",
    "            poisonous = y_test\n",
    "        )\n",
    "        .query('poisonous == 1 & preds == 0')\n",
    "        .drop(columns=['preds'])\n",
    "        )\n",
    "new_mush = mush"
   ]
  },
  {
   "cell_type": "code",
   "execution_count": 149,
   "metadata": {},
   "outputs": [
    {
     "name": "stdout",
     "output_type": "stream",
     "text": [
      "\n",
      "Iteration 1\n",
      "Predicted   0   1\n",
      "Actual           \n",
      "0          41   0\n",
      "1          29  15\n",
      "\n",
      "Iteration 2\n",
      "Predicted   0   1\n",
      "Actual           \n",
      "0          43   6\n",
      "1          15  26\n",
      "\n",
      "Iteration 3\n",
      "Predicted   0   1\n",
      "Actual           \n",
      "0          39  13\n",
      "1           5  36\n",
      "\n",
      "Iteration 4\n",
      "Predicted   0   1\n",
      "Actual           \n",
      "0          32  15\n",
      "1          11  36\n",
      "\n",
      "Iteration 5\n",
      "Predicted   0   1\n",
      "Actual           \n",
      "0          32   9\n",
      "1          19  37\n",
      "\n",
      "Iteration 6\n",
      "Predicted   0   1\n",
      "Actual           \n",
      "0          38   6\n",
      "1          11  45\n",
      "\n",
      "Iteration 7\n",
      "Predicted   0   1\n",
      "Actual           \n",
      "0          31  11\n",
      "1           9  52\n",
      "\n",
      "Iteration 8\n",
      "Predicted   0   1\n",
      "Actual           \n",
      "0          29  20\n",
      "1           1  54\n",
      "\n",
      "Iteration 9\n",
      "Predicted   0   1\n",
      "Actual           \n",
      "0          34  17\n",
      "1           3  51\n",
      "\n",
      "Iteration 10\n",
      "Predicted   0   1\n",
      "Actual           \n",
      "0          32  16\n",
      "1           4  53\n",
      "\n",
      "Iteration 11\n",
      "Predicted   0   1\n",
      "Actual           \n",
      "0          28  10\n",
      "1           5  63\n",
      "\n",
      "Iteration 12\n",
      "Predicted   0   1\n",
      "Actual           \n",
      "0          29  20\n",
      "1           0  58\n"
     ]
    }
   ],
   "source": [
    "# add miss predicted poisonous mushrooms to the train dataframe\n",
    "iteration = 1\n",
    "while get_miss_predicted_poisonous_mushrooms(rf_pipeline, X_test, y_test).shape[0] > 0:\n",
    "    new_mush = pd.concat([new_mush, get_miss_predicted_poisonous_mushrooms(rf_pipeline, X_test, y_test)], axis=0)\n",
    "    X = new_mush.drop(columns=['poisonous'])\n",
    "    y = new_mush['poisonous']\n",
    "    X_train, X_test, y_train, y_test = train_test_split(X, y, train_size=.8, random_state=8)\n",
    "    _ = rf_pipeline.fit(X_train, y_train)\n",
    "    print(f'\\nIteration {iteration}')\n",
    "    iteration += 1\n",
    "    print(pd.crosstab(y_test, rf_pipeline.predict(X_test), rownames=['Actual'], colnames=['Predicted']))"
   ]
  },
  {
   "cell_type": "code",
   "execution_count": 150,
   "metadata": {
    "tags": []
   },
   "outputs": [],
   "source": [
    "# apply model to test data\n",
    "preds = rf_pipeline.predict(mush_test.drop(columns=['Id']).filter(X.columns))"
   ]
  },
  {
   "cell_type": "code",
   "execution_count": 151,
   "metadata": {},
   "outputs": [],
   "source": [
    "# test my submission\n",
    "results = pd.read_csv('data/results.csv')"
   ]
  },
  {
   "cell_type": "code",
   "execution_count": 152,
   "metadata": {},
   "outputs": [
    {
     "data": {
      "text/html": [
       "<div>\n",
       "<style scoped>\n",
       "    .dataframe tbody tr th:only-of-type {\n",
       "        vertical-align: middle;\n",
       "    }\n",
       "\n",
       "    .dataframe tbody tr th {\n",
       "        vertical-align: top;\n",
       "    }\n",
       "\n",
       "    .dataframe thead th {\n",
       "        text-align: right;\n",
       "    }\n",
       "</style>\n",
       "<table border=\"1\" class=\"dataframe\">\n",
       "  <thead>\n",
       "    <tr style=\"text-align: right;\">\n",
       "      <th>Predicted</th>\n",
       "      <th>0</th>\n",
       "      <th>1</th>\n",
       "    </tr>\n",
       "    <tr>\n",
       "      <th>Actual</th>\n",
       "      <th></th>\n",
       "      <th></th>\n",
       "    </tr>\n",
       "  </thead>\n",
       "  <tbody>\n",
       "    <tr>\n",
       "      <th>0</th>\n",
       "      <td>389</td>\n",
       "      <td>477</td>\n",
       "    </tr>\n",
       "    <tr>\n",
       "      <th>1</th>\n",
       "      <td>0</td>\n",
       "      <td>759</td>\n",
       "    </tr>\n",
       "  </tbody>\n",
       "</table>\n",
       "</div>"
      ],
      "text/plain": [
       "Predicted    0    1\n",
       "Actual             \n",
       "0          389  477\n",
       "1            0  759"
      ]
     },
     "execution_count": 152,
     "metadata": {},
     "output_type": "execute_result"
    }
   ],
   "source": [
    "pd.crosstab(results['poisonous'], preds, rownames=['Actual'], colnames=['Predicted'])"
   ]
  }
 ],
 "metadata": {
  "kernelspec": {
   "display_name": "Python 3.9.7 ('base')",
   "language": "python",
   "name": "python3"
  },
  "language_info": {
   "codemirror_mode": {
    "name": "ipython",
    "version": 3
   },
   "file_extension": ".py",
   "mimetype": "text/x-python",
   "name": "python",
   "nbconvert_exporter": "python",
   "pygments_lexer": "ipython3",
   "version": "3.9.7"
  },
  "vscode": {
   "interpreter": {
    "hash": "c2238120c9728f74513279f8a3f1aeaaba1d165fa4f95681a8f2d6d36a71a29d"
   }
  }
 },
 "nbformat": 4,
 "nbformat_minor": 4
}
