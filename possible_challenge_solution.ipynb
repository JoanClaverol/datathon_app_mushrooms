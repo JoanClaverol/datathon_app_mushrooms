{
 "cells": [
  {
   "cell_type": "code",
   "execution_count": 30,
   "metadata": {
    "_cell_guid": "b1076dfc-b9ad-4769-8c92-a6c4dae69d19",
    "_uuid": "8f2839f25d086af736a60e9eeb907d3b93b6e0e5",
    "tags": []
   },
   "outputs": [],
   "source": [
    "import pandas as pd\n",
    "from sklearn.model_selection import train_test_split\n",
    "from sklearn.pipeline import Pipeline\n",
    "from sklearn.compose import ColumnTransformer\n",
    "from sklearn.preprocessing import OneHotEncoder\n",
    "from sklearn.ensemble import RandomForestClassifier\n",
    "from sklearn.tree import DecisionTreeClassifier\n",
    "\n",
    "# Hana, I think you forget to drop id column and you don't need to use all the rows (remove duplicated)\n",
    "mush = pd.read_csv('data/train.csv').drop(columns=['Id']).drop_duplicates()\n",
    "mush_test= pd.read_csv('data/test.csv')\n",
    "columns_to_keep = mush_test.columns.to_list()\n",
    "mush.drop(mush.columns.difference(columns_to_keep+['poisonous']), axis=1, inplace=True)\n",
    "X = mush.drop(columns=['poisonous'])\n",
    "y = mush['poisonous']\n",
    "\n",
    "X_train, X_test, y_train, y_test = train_test_split(X, y, train_size=.8, random_state=8)\n",
    "X_train.head()\n",
    "cat_col= list(X_train.select_dtypes(include=[\"object\"]))\n",
    "categorical_pipeline = Pipeline(steps=[\n",
    "    ('one-hot', OneHotEncoder(handle_unknown='ignore'))\n",
    "])\n",
    "\n",
    "full_processor = ColumnTransformer(transformers=[\n",
    "    ('category', categorical_pipeline, cat_col)\n",
    "])\n",
    "model_pipeline = Pipeline(steps=[\n",
    "    ('processor', full_processor), \n",
    "    # define parameters for the model fo be sure you avoid overfitting\n",
    "    ('model', DecisionTreeClassifier(max_depth=5, min_samples_leaf=15))\n",
    "])\n",
    "_ = model_pipeline.fit(X_train, y_train)"
   ]
  },
  {
   "cell_type": "code",
   "execution_count": 31,
   "metadata": {},
   "outputs": [],
   "source": [
    "def get_miss_predicted_poisonous_mushrooms(model, X_test, y_test):\n",
    "    \"\"\"\n",
    "    This function returns a dataframe of mushrooms that were predicted NOT to be poisonous, but actually were.\n",
    "    \"\"\"\n",
    "    return (\n",
    "    X_test\n",
    "        .assign(\n",
    "            preds =  model_pipeline.predict(X_test),\n",
    "            poisonous = y_test\n",
    "        )\n",
    "        .query('poisonous == 1 & preds == 0')\n",
    "        .drop(columns=['preds'])\n",
    "        )\n",
    "new_mush = mush"
   ]
  },
  {
   "cell_type": "code",
   "execution_count": 32,
   "metadata": {},
   "outputs": [
    {
     "name": "stdout",
     "output_type": "stream",
     "text": [
      "\n",
      "Iteration 1\n",
      "Predicted   0   1\n",
      "Actual           \n",
      "0          25  18\n",
      "1          20  19\n",
      "\n",
      "Iteration 2\n",
      "Predicted   0   1\n",
      "Actual           \n",
      "0          36  11\n",
      "1          19  20\n",
      "\n",
      "Iteration 3\n",
      "Predicted   0   1\n",
      "Actual           \n",
      "0          35  10\n",
      "1          11  34\n",
      "\n",
      "Iteration 4\n",
      "Predicted   0   1\n",
      "Actual           \n",
      "0          45   7\n",
      "1          12  28\n",
      "\n",
      "Iteration 5\n",
      "Predicted   0   1\n",
      "Actual           \n",
      "0          27  20\n",
      "1          19  28\n",
      "\n",
      "Iteration 6\n",
      "Predicted   0   1\n",
      "Actual           \n",
      "0          30  19\n",
      "1          12  37\n",
      "\n",
      "Iteration 7\n",
      "Predicted   0   1\n",
      "Actual           \n",
      "0          31  14\n",
      "1          14  42\n",
      "\n",
      "Iteration 8\n",
      "Predicted   0   1\n",
      "Actual           \n",
      "0          27  19\n",
      "1           0  57\n"
     ]
    }
   ],
   "source": [
    "# add miss predicted poisonous mushrooms to the train dataframe and retrain the model to modify the weights of the poisonous mushrooms\n",
    "# the model will be retrained until there are no miss predicted poisonous mushrooms\n",
    "iteration = 1\n",
    "while get_miss_predicted_poisonous_mushrooms(model_pipeline, X_test, y_test).shape[0] > 0:\n",
    "    new_mush = pd.concat([new_mush, get_miss_predicted_poisonous_mushrooms(model_pipeline, X_test, y_test)], axis=0)\n",
    "    X = new_mush.drop(columns=['poisonous'])\n",
    "    y = new_mush['poisonous']\n",
    "    X_train, X_test, y_train, y_test = train_test_split(X, y, train_size=.8, random_state=8)\n",
    "    _ = model_pipeline.fit(X_train, y_train)\n",
    "    print(f'\\nIteration {iteration}')\n",
    "    iteration += 1\n",
    "    print(pd.crosstab(y_test, model_pipeline.predict(X_test), rownames=['Actual'], colnames=['Predicted']))"
   ]
  },
  {
   "cell_type": "code",
   "execution_count": 33,
   "metadata": {
    "tags": []
   },
   "outputs": [],
   "source": [
    "# apply model to test data\n",
    "preds = model_pipeline.predict(mush_test.drop(columns=['Id']).filter(X.columns))"
   ]
  },
  {
   "cell_type": "code",
   "execution_count": 34,
   "metadata": {},
   "outputs": [],
   "source": [
    "# test my submission\n",
    "results = pd.read_csv('data/results.csv')"
   ]
  },
  {
   "cell_type": "code",
   "execution_count": 35,
   "metadata": {},
   "outputs": [
    {
     "data": {
      "text/html": [
       "<div>\n",
       "<style scoped>\n",
       "    .dataframe tbody tr th:only-of-type {\n",
       "        vertical-align: middle;\n",
       "    }\n",
       "\n",
       "    .dataframe tbody tr th {\n",
       "        vertical-align: top;\n",
       "    }\n",
       "\n",
       "    .dataframe thead th {\n",
       "        text-align: right;\n",
       "    }\n",
       "</style>\n",
       "<table border=\"1\" class=\"dataframe\">\n",
       "  <thead>\n",
       "    <tr style=\"text-align: right;\">\n",
       "      <th>Predicted</th>\n",
       "      <th>0</th>\n",
       "      <th>1</th>\n",
       "    </tr>\n",
       "    <tr>\n",
       "      <th>Actual</th>\n",
       "      <th></th>\n",
       "      <th></th>\n",
       "    </tr>\n",
       "  </thead>\n",
       "  <tbody>\n",
       "    <tr>\n",
       "      <th>0</th>\n",
       "      <td>281</td>\n",
       "      <td>585</td>\n",
       "    </tr>\n",
       "    <tr>\n",
       "      <th>1</th>\n",
       "      <td>0</td>\n",
       "      <td>759</td>\n",
       "    </tr>\n",
       "  </tbody>\n",
       "</table>\n",
       "</div>"
      ],
      "text/plain": [
       "Predicted    0    1\n",
       "Actual             \n",
       "0          281  585\n",
       "1            0  759"
      ]
     },
     "execution_count": 35,
     "metadata": {},
     "output_type": "execute_result"
    }
   ],
   "source": [
    "# results on test data\n",
    "pd.crosstab(results['poisonous'], preds, rownames=['Actual'], colnames=['Predicted'])"
   ]
  }
 ],
 "metadata": {
  "kernelspec": {
   "display_name": "Python 3.9.7 ('base')",
   "language": "python",
   "name": "python3"
  },
  "language_info": {
   "codemirror_mode": {
    "name": "ipython",
    "version": 3
   },
   "file_extension": ".py",
   "mimetype": "text/x-python",
   "name": "python",
   "nbconvert_exporter": "python",
   "pygments_lexer": "ipython3",
   "version": "3.9.7"
  },
  "vscode": {
   "interpreter": {
    "hash": "c2238120c9728f74513279f8a3f1aeaaba1d165fa4f95681a8f2d6d36a71a29d"
   }
  }
 },
 "nbformat": 4,
 "nbformat_minor": 4
}
